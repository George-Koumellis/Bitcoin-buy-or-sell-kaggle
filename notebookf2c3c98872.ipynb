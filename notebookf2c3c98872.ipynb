{
 "cells": [
  {
   "cell_type": "code",
   "execution_count": 1,
   "id": "89abdeed",
   "metadata": {
    "_cell_guid": "b1076dfc-b9ad-4769-8c92-a6c4dae69d19",
    "_uuid": "8f2839f25d086af736a60e9eeb907d3b93b6e0e5",
    "execution": {
     "iopub.execute_input": "2022-10-08T10:43:31.100810Z",
     "iopub.status.busy": "2022-10-08T10:43:31.100089Z",
     "iopub.status.idle": "2022-10-08T10:43:31.110505Z",
     "shell.execute_reply": "2022-10-08T10:43:31.109623Z"
    },
    "papermill": {
     "duration": 0.019432,
     "end_time": "2022-10-08T10:43:31.112937",
     "exception": false,
     "start_time": "2022-10-08T10:43:31.093505",
     "status": "completed"
    },
    "tags": []
   },
   "outputs": [],
   "source": [
    "import numpy as np\n",
    "import time\n",
    "import pandas as pd\n",
    "import matplotlib.pyplot as plt\n",
    "import requests\n",
    "from datetime import datetime\n",
    "pd.set_option('expand_frame_repr', False)  \n",
    "\n"
   ]
  },
  {
   "cell_type": "code",
   "execution_count": 2,
   "id": "eda1396d",
   "metadata": {
    "execution": {
     "iopub.execute_input": "2022-10-08T10:43:31.123246Z",
     "iopub.status.busy": "2022-10-08T10:43:31.122546Z",
     "iopub.status.idle": "2022-10-08T10:43:31.128162Z",
     "shell.execute_reply": "2022-10-08T10:43:31.127380Z"
    },
    "papermill": {
     "duration": 0.013456,
     "end_time": "2022-10-08T10:43:31.130466",
     "exception": false,
     "start_time": "2022-10-08T10:43:31.117010",
     "status": "completed"
    },
    "tags": []
   },
   "outputs": [],
   "source": [
    "# get current price data\n",
    "def get_current_data(from_sym='BTC', to_sym='USD', exchange=''):\n",
    "    url = 'https://min-api.cryptocompare.com/data/price'    \n",
    "    \n",
    "    parameters = {'fsym': from_sym,\n",
    "                  'tsyms': to_sym }\n",
    "    \n",
    "    if exchange:\n",
    "        print('exchange: ', exchange)\n",
    "        parameters['e'] = exchange\n",
    "        \n",
    "    # response comes as json\n",
    "    response = requests.get(url, params=parameters)   \n",
    "    data = response.json()\n",
    "    \n",
    "    return data "
   ]
  },
  {
   "cell_type": "code",
   "execution_count": 3,
   "id": "9fcc955f",
   "metadata": {
    "execution": {
     "iopub.execute_input": "2022-10-08T10:43:31.140470Z",
     "iopub.status.busy": "2022-10-08T10:43:31.139757Z",
     "iopub.status.idle": "2022-10-08T10:43:31.152964Z",
     "shell.execute_reply": "2022-10-08T10:43:31.151691Z"
    },
    "papermill": {
     "duration": 0.021198,
     "end_time": "2022-10-08T10:43:31.155587",
     "exception": false,
     "start_time": "2022-10-08T10:43:31.134389",
     "status": "completed"
    },
    "tags": []
   },
   "outputs": [],
   "source": [
    "# get the historic bitcoin data \n",
    "def get_hist_data(from_sym='BTC', to_sym='USD', timeframe = 'day', limit=2000, aggregation=1, exchange=''):\n",
    "    \n",
    "    url = 'https://min-api.cryptocompare.com/data/v2/histo'\n",
    "    url += timeframe\n",
    "    \n",
    "    parameters = {'fsym': from_sym,\n",
    "                  'tsym': to_sym,\n",
    "                  'limit': limit,\n",
    "                  'aggregate': aggregation}\n",
    "    if exchange:\n",
    "        print('exchange: ', exchange)\n",
    "        parameters['e'] = exchange    \n",
    "    \n",
    "    print('baseurl: ', url) \n",
    "    print('timeframe: ', timeframe)\n",
    "    print('parameters: ', parameters)\n",
    "    \n",
    "    # response comes as json\n",
    "    response = requests.get(url, params=parameters)   \n",
    "    \n",
    "    data = response.json()['Data']['Data'] \n",
    "    \n",
    "    return data "
   ]
  },
  {
   "cell_type": "code",
   "execution_count": 4,
   "id": "b8e41846",
   "metadata": {
    "execution": {
     "iopub.execute_input": "2022-10-08T10:43:31.165424Z",
     "iopub.status.busy": "2022-10-08T10:43:31.164999Z",
     "iopub.status.idle": "2022-10-08T10:43:31.170999Z",
     "shell.execute_reply": "2022-10-08T10:43:31.169814Z"
    },
    "papermill": {
     "duration": 0.013866,
     "end_time": "2022-10-08T10:43:31.173410",
     "exception": false,
     "start_time": "2022-10-08T10:43:31.159544",
     "status": "completed"
    },
    "tags": []
   },
   "outputs": [],
   "source": [
    "# function to convert data into a table which is easier to manipulate\n",
    "def data_to_dataframe(data):\n",
    "    #data from json is in array of dictionaries\n",
    "    df = pd.DataFrame.from_dict(data)\n",
    "    \n",
    "    # time is stored as an epoch, we need normal dates\n",
    "    df['time'] = pd.to_datetime(df['time'], unit='s')\n",
    "    df.set_index('time', inplace=True)\n",
    "    print(df.tail())\n",
    "    \n",
    "    return df"
   ]
  },
  {
   "cell_type": "code",
   "execution_count": 5,
   "id": "e9a5a08d",
   "metadata": {
    "execution": {
     "iopub.execute_input": "2022-10-08T10:43:31.183642Z",
     "iopub.status.busy": "2022-10-08T10:43:31.182561Z",
     "iopub.status.idle": "2022-10-08T10:43:31.188870Z",
     "shell.execute_reply": "2022-10-08T10:43:31.187949Z"
    },
    "papermill": {
     "duration": 0.013869,
     "end_time": "2022-10-08T10:43:31.191371",
     "exception": false,
     "start_time": "2022-10-08T10:43:31.177502",
     "status": "completed"
    },
    "tags": []
   },
   "outputs": [],
   "source": [
    "# visualise the data\n",
    "def plot_data(df, cryptocurrency, target_currency):\n",
    "    \n",
    "    from pandas.plotting import register_matplotlib_converters\n",
    "    register_matplotlib_converters()\n",
    "    \n",
    "    plt.figure(figsize=(15,5))\n",
    "    plt.title('{} / {} price data'.format(cryptocurrency, target_currency))\n",
    "    plt.plot(df.index, df.close)\n",
    "    plt.legend()\n",
    "    plt.show()\n",
    "    \n",
    "    return None"
   ]
  },
  {
   "cell_type": "code",
   "execution_count": 6,
   "id": "a68a5737",
   "metadata": {
    "execution": {
     "iopub.execute_input": "2022-10-08T10:43:31.201169Z",
     "iopub.status.busy": "2022-10-08T10:43:31.200682Z",
     "iopub.status.idle": "2022-10-08T10:43:35.196800Z",
     "shell.execute_reply": "2022-10-08T10:43:35.195553Z"
    },
    "papermill": {
     "duration": 4.00441,
     "end_time": "2022-10-08T10:43:35.199720",
     "exception": false,
     "start_time": "2022-10-08T10:43:31.195310",
     "status": "completed"
    },
    "tags": []
   },
   "outputs": [
    {
     "name": "stdout",
     "output_type": "stream",
     "text": [
      "baseurl:  https://min-api.cryptocompare.com/data/v2/histoday\n",
      "timeframe:  day\n",
      "parameters:  {'fsym': 'BTC', 'tsym': 'USD', 'limit': 1000, 'aggregate': 1}\n",
      "                high       low      open  volumefrom      volumeto     close conversionType conversionSymbol\n",
      "time                                                                                                        \n",
      "2022-10-04  20459.26  19499.64  19632.35    64461.86  1.290593e+09  20344.58         direct                 \n",
      "2022-10-05  20366.34  19757.31  20344.58    59503.18  1.195512e+09  20160.74         direct                 \n",
      "2022-10-06  20449.46  19866.54  20160.74    74646.94  1.502842e+09  19965.12         direct                 \n",
      "2022-10-07  20058.36  19331.73  19965.12    59698.47  1.177832e+09  19532.81         direct                 \n",
      "2022-10-08  19625.41  19428.21  19532.81     7268.37  1.418920e+08  19495.32         direct                 \n"
     ]
    },
    {
     "data": {
      "image/png": "[encoded data removed]",
      "text/plain": [
       "<Figure size 1080x360 with 1 Axes>"
      ]
     },
     "metadata": {
      "needs_background": "light"
     },
     "output_type": "display_data"
    },
    {
     "name": "stdout",
     "output_type": "stream",
     "text": [
      "baseurl:  https://min-api.cryptocompare.com/data/v2/histominute\n",
      "timeframe:  minute\n",
      "parameters:  {'fsym': 'BTC', 'tsym': 'USD', 'limit': 1440, 'aggregate': 1}\n",
      "                         high       low      open  volumefrom   volumeto     close conversionType conversionSymbol\n",
      "time                                                                                                              \n",
      "2022-10-08 10:39:00  19504.00  19497.79  19502.52      11.570  225669.73  19499.16         direct                 \n",
      "2022-10-08 10:40:00  19501.62  19496.92  19499.16      17.170  334796.37  19498.24         direct                 \n",
      "2022-10-08 10:41:00  19500.18  19494.80  19498.24       4.588   89454.74  19496.26         direct                 \n",
      "2022-10-08 10:42:00  19498.29  19493.07  19496.26       9.297  181260.82  19494.53         direct                 \n",
      "2022-10-08 10:43:00  19495.32  19494.53  19494.53       0.000       0.00  19495.32         direct                 \n"
     ]
    },
    {
     "data": {
      "image/png": "[encoded data removed]",
      "text/plain": [
       "<Figure size 1080x360 with 1 Axes>"
      ]
     },
     "metadata": {
      "needs_background": "light"
     },
     "output_type": "display_data"
    }
   ],
   "source": [
    "cryptocurrency = 'BTC'\n",
    "target_currency = 'USD'\n",
    "\n",
    "# print a graph with daily values\n",
    "data = get_hist_data(cryptocurrency, target_currency, 'day', 1000)\n",
    "df = data_to_dataframe(data)\n",
    "\n",
    "plot_data(df, cryptocurrency, target_currency)\n",
    "\n",
    "# print a graph with minutely values from the past 24 hours\n",
    "minute_data = get_hist_data(cryptocurrency, target_currency, 'minute', 1440)\n",
    "minute_df = data_to_dataframe(minute_data)\n",
    "plot_data(minute_df, cryptocurrency, target_currency)"
   ]
  },
  {
   "cell_type": "code",
   "execution_count": 7,
   "id": "0e53439b",
   "metadata": {
    "execution": {
     "iopub.execute_input": "2022-10-08T10:43:35.212884Z",
     "iopub.status.busy": "2022-10-08T10:43:35.212493Z",
     "iopub.status.idle": "2022-10-08T10:43:35.221105Z",
     "shell.execute_reply": "2022-10-08T10:43:35.219812Z"
    },
    "papermill": {
     "duration": 0.018038,
     "end_time": "2022-10-08T10:43:35.223671",
     "exception": false,
     "start_time": "2022-10-08T10:43:35.205633",
     "status": "completed"
    },
    "tags": []
   },
   "outputs": [
    {
     "data": {
      "text/plain": [
       "19495.32"
      ]
     },
     "execution_count": 7,
     "metadata": {},
     "output_type": "execute_result"
    }
   ],
   "source": [
    "# get current price data\n",
    "current_price = float(df.iloc[-1:]['close'])\n",
    "current_price\n",
    "\n"
   ]
  },
  {
   "cell_type": "code",
   "execution_count": 8,
   "id": "232d4918",
   "metadata": {
    "execution": {
     "iopub.execute_input": "2022-10-08T10:43:35.236652Z",
     "iopub.status.busy": "2022-10-08T10:43:35.236266Z",
     "iopub.status.idle": "2022-10-08T10:43:35.245151Z",
     "shell.execute_reply": "2022-10-08T10:43:35.243946Z"
    },
    "papermill": {
     "duration": 0.018053,
     "end_time": "2022-10-08T10:43:35.247458",
     "exception": false,
     "start_time": "2022-10-08T10:43:35.229405",
     "status": "completed"
    },
    "tags": []
   },
   "outputs": [
    {
     "data": {
      "text/plain": [
       "19495.32"
      ]
     },
     "execution_count": 8,
     "metadata": {},
     "output_type": "execute_result"
    }
   ],
   "source": [
    "minute_price = minute_df.iloc[-1:]\n",
    "float_minute_price = float(minute_price['close'])\n",
    "float_minute_price"
   ]
  },
  {
   "cell_type": "code",
   "execution_count": 9,
   "id": "015ea8f0",
   "metadata": {
    "execution": {
     "iopub.execute_input": "2022-10-08T10:43:35.261480Z",
     "iopub.status.busy": "2022-10-08T10:43:35.261097Z",
     "iopub.status.idle": "2022-10-08T10:43:35.271180Z",
     "shell.execute_reply": "2022-10-08T10:43:35.270014Z"
    },
    "papermill": {
     "duration": 0.019736,
     "end_time": "2022-10-08T10:43:35.273394",
     "exception": false,
     "start_time": "2022-10-08T10:43:35.253658",
     "status": "completed"
    },
    "tags": []
   },
   "outputs": [
    {
     "data": {
      "text/plain": [
       "time\n",
       "2022-10-08    19495.32\n",
       "2022-10-07    19532.81\n",
       "2022-10-06    19965.12\n",
       "2022-10-05    20160.74\n",
       "2022-10-04    20344.58\n",
       "2022-10-03    19632.35\n",
       "2022-10-02    19058.15\n",
       "2022-10-01    19313.96\n",
       "2022-09-30    19425.63\n",
       "2022-09-29    19593.46\n",
       "Name: close, dtype: float64"
      ]
     },
     "execution_count": 9,
     "metadata": {},
     "output_type": "execute_result"
    }
   ],
   "source": [
    "recent_df = df['close'].iloc[-10::]\n",
    "inverse_df = recent_df.iloc[::-1]\n",
    "inverse_df\n",
    "\n"
   ]
  },
  {
   "cell_type": "code",
   "execution_count": 10,
   "id": "48d096b4",
   "metadata": {
    "execution": {
     "iopub.execute_input": "2022-10-08T10:43:35.287341Z",
     "iopub.status.busy": "2022-10-08T10:43:35.286834Z",
     "iopub.status.idle": "2022-10-08T10:43:35.302677Z",
     "shell.execute_reply": "2022-10-08T10:43:35.301453Z"
    },
    "papermill": {
     "duration": 0.025456,
     "end_time": "2022-10-08T10:43:35.304877",
     "exception": false,
     "start_time": "2022-10-08T10:43:35.279421",
     "status": "completed"
    },
    "tags": []
   },
   "outputs": [
    {
     "data": {
      "text/plain": [
       "9    19741.295714\n",
       "8    19266.860000\n",
       "7    19132.640000\n",
       "6    20609.562857\n",
       "5    20031.835714\n",
       "4    19947.485714\n",
       "3    21093.714286\n",
       "2    22969.867143\n",
       "1    23845.614286\n",
       "0    23042.151429\n",
       "Name: close, dtype: float64"
      ]
     },
     "execution_count": 10,
     "metadata": {},
     "output_type": "execute_result"
    }
   ],
   "source": [
    "trend_df = df.iloc[-70::]['close']\n",
    "weekly_average = trend_df.groupby(np.arange(len(trend_df))//7).mean()\n",
    "current_week = weekly_average[9]\n",
    "inv_week = weekly_average.iloc[::-1]\n",
    "inv_week"
   ]
  },
  {
   "cell_type": "code",
   "execution_count": 11,
   "id": "c6d0b81a",
   "metadata": {
    "execution": {
     "iopub.execute_input": "2022-10-08T10:43:35.319003Z",
     "iopub.status.busy": "2022-10-08T10:43:35.318236Z",
     "iopub.status.idle": "2022-10-08T10:43:35.324513Z",
     "shell.execute_reply": "2022-10-08T10:43:35.323530Z"
    },
    "papermill": {
     "duration": 0.015792,
     "end_time": "2022-10-08T10:43:35.326733",
     "exception": false,
     "start_time": "2022-10-08T10:43:35.310941",
     "status": "completed"
    },
    "tags": []
   },
   "outputs": [],
   "source": [
    "x = weekly_average[9]\n",
    "counter = 0\n",
    "negative_counter = 0\n",
    "for i in inv_week:\n",
    "    if x >= i:\n",
    "        counter += 1\n",
    "        pass\n",
    "    else:\n",
    "        break\n",
    "for i in inv_week:\n",
    "    if x <= i:\n",
    "        negative_counter += 1\n",
    "        pass\n",
    "    else:\n",
    "        break\n",
    "\n"
   ]
  },
  {
   "cell_type": "code",
   "execution_count": 12,
   "id": "ad36d51f",
   "metadata": {
    "execution": {
     "iopub.execute_input": "2022-10-08T10:43:35.340797Z",
     "iopub.status.busy": "2022-10-08T10:43:35.339793Z",
     "iopub.status.idle": "2022-10-08T10:43:35.351754Z",
     "shell.execute_reply": "2022-10-08T10:43:35.349893Z"
    },
    "papermill": {
     "duration": 0.021797,
     "end_time": "2022-10-08T10:43:35.354419",
     "exception": false,
     "start_time": "2022-10-08T10:43:35.332622",
     "status": "completed"
    },
    "tags": []
   },
   "outputs": [
    {
     "name": "stdout",
     "output_type": "stream",
     "text": [
      "Short term: Buy bitcoin at the current price of: $19495.32\n",
      "Reasoning: Bitcoin's current price is $157 lower than the average of the past 10 days\n",
      "Trend: Bitcoin has been increasing in value for the past 3 weeks\n",
      "Long term: Buy\n"
     ]
    }
   ],
   "source": [
    "previous_values = recent_df.iloc[:-1]\n",
    "low_value = previous_values.min()\n",
    "high_value = previous_values.max()\n",
    "average = inverse_df.mean()\n",
    "\n",
    "if current_price - 100 > average:\n",
    "    print('Short term: sell bitcoin at the current price of: ${}'.format(str(float_minute_price)))\n",
    "    print(\"Reasoning: Bitcoin's current price is ${} higher than the average of the past 10 days\".format(round(abs(current_price-average))))\n",
    "elif current_price + 100 < average:\n",
    "    print('Short term: Buy bitcoin at the current price of: ${}'.format(str(float_minute_price)))\n",
    "    print(\"Reasoning: Bitcoin's current price is ${} lower than the average of the past 10 days\".format(round(abs(current_price-average))))\n",
    "\n",
    "if counter != 1:\n",
    "    print(\"Trend: Bitcoin has been increasing in value for the past {} weeks\".format(counter))\n",
    "    print(\"Long term: Buy\")\n",
    "\n",
    "if negative_counter != 1:\n",
    "    print(\"Trend: Bitcoin has been decreasing in value for the past {} weeks\".format(negative_counter))\n",
    "    print(\"Long term: Sell\")\n",
    "    \n",
    "# elif current_price < inverse_df[1] < inverse_df[2]:\n",
    "#    print('buy bitcoin at the current price of: ${}'.format(str(float_minute_price)))\n",
    "# elif current_price > inverse_df[1] > inverse_df[2]:\n",
    "#    print('sell bitcoin at the current price of: ${}'.format(str(float_minute_price)))\n"
   ]
  }
 ],
 "metadata": {
  "kernelspec": {
   "display_name": "Python 3",
   "language": "python",
   "name": "python3"
  },
  "language_info": {
   "codemirror_mode": {
    "name": "ipython",
    "version": 3
   },
   "file_extension": ".py",
   "mimetype": "text/x-python",
   "name": "python",
   "nbconvert_exporter": "python",
   "pygments_lexer": "ipython3",
   "version": "3.7.12"
  },
  "papermill": {
   "default_parameters": {},
   "duration": 14.061311,
   "end_time": "2022-10-08T10:43:35.982772",
   "environment_variables": {},
   "exception": null,
   "input_path": "__notebook__.ipynb",
   "output_path": "__notebook__.ipynb",
   "parameters": {},
   "start_time": "2022-10-08T10:43:21.921461",
   "version": "2.3.4"
  }
 },
 "nbformat": 4,
 "nbformat_minor": 5
}
