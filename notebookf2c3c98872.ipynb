{
 "cells": [
  {
   "cell_type": "code",
   "execution_count": 1,
   "id": "d644850a",
   "metadata": {
    "_cell_guid": "b1076dfc-b9ad-4769-8c92-a6c4dae69d19",
    "_uuid": "8f2839f25d086af736a60e9eeb907d3b93b6e0e5",
    "execution": {
     "iopub.execute_input": "2022-10-03T19:57:07.993979Z",
     "iopub.status.busy": "2022-10-03T19:57:07.993537Z",
     "iopub.status.idle": "2022-10-03T19:57:09.443586Z",
     "shell.execute_reply": "2022-10-03T19:57:09.442333Z"
    },
    "papermill": {
     "duration": 1.457007,
     "end_time": "2022-10-03T19:57:09.446215",
     "exception": false,
     "start_time": "2022-10-03T19:57:07.989208",
     "status": "completed"
    },
    "tags": []
   },
   "outputs": [
    {
     "name": "stdout",
     "output_type": "stream",
     "text": [
      "exchange:  coinbase\n"
     ]
    },
    {
     "data": {
      "text/plain": [
       "{'USD': 19515.2}"
      ]
     },
     "execution_count": 1,
     "metadata": {},
     "output_type": "execute_result"
    }
   ],
   "source": [
    "import pandas as pd\n",
    "import matplotlib.pyplot as plt\n",
    "import requests\n",
    "from datetime import datetime\n",
    "# pretty printing of pandas dataframe\n",
    "pd.set_option('expand_frame_repr', False)  \n",
    "\n",
    "# Get current price data\n",
    "def get_current_data(from_sym='BTC', to_sym='USD', exchange=''):\n",
    "    '''\n",
    "    Gets bitcoin to dollars api from cryptcompare and the response comes as a json file\n",
    "    '''\n",
    "    url = 'https://min-api.cryptocompare.com/data/price'    \n",
    "    \n",
    "    parameters = {'fsym': from_sym,\n",
    "                  'tsyms': to_sym }\n",
    "    \n",
    "    if exchange:\n",
    "        print('exchange: ', exchange)\n",
    "        parameters['e'] = exchange\n",
    "        \n",
    "    # response comes as json\n",
    "    response = requests.get(url, params=parameters)   \n",
    "    data = response.json()\n",
    "    \n",
    "    return data\n",
    "\n",
    "\n",
    "get_current_data('BTC','USD','coinbase')"
   ]
  }
 ],
 "metadata": {
  "kernelspec": {
   "display_name": "Python 3",
   "language": "python",
   "name": "python3"
  },
  "language_info": {
   "codemirror_mode": {
    "name": "ipython",
    "version": 3
   },
   "file_extension": ".py",
   "mimetype": "text/x-python",
   "name": "python",
   "nbconvert_exporter": "python",
   "pygments_lexer": "ipython3",
   "version": "3.7.12"
  },
  "papermill": {
   "default_parameters": {},
   "duration": 10.858495,
   "end_time": "2022-10-03T19:57:10.074725",
   "environment_variables": {},
   "exception": null,
   "input_path": "__notebook__.ipynb",
   "output_path": "__notebook__.ipynb",
   "parameters": {},
   "start_time": "2022-10-03T19:56:59.216230",
   "version": "2.3.4"
  }
 },
 "nbformat": 4,
 "nbformat_minor": 5
}
