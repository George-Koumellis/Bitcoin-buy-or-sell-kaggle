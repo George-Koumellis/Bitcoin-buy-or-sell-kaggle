{
 "cells": [
  {
   "cell_type": "markdown",
   "id": "058c2ff9",
   "metadata": {
    "papermill": {
     "duration": 0.006281,
     "end_time": "2022-10-04T05:54:52.410128",
     "exception": false,
     "start_time": "2022-10-04T05:54:52.403847",
     "status": "completed"
    },
    "tags": []
   },
   "source": [
    "**Import necessary libraries**\n",
    "- pandas is for data manipulation\n",
    "- matplotlib is for visual representation\n",
    "- requests"
   ]
  },
  {
   "cell_type": "code",
   "execution_count": 1,
   "id": "0fcc96dc",
   "metadata": {
    "_cell_guid": "b1076dfc-b9ad-4769-8c92-a6c4dae69d19",
    "_uuid": "8f2839f25d086af736a60e9eeb907d3b93b6e0e5",
    "execution": {
     "iopub.execute_input": "2022-10-04T05:54:52.420657Z",
     "iopub.status.busy": "2022-10-04T05:54:52.420019Z",
     "iopub.status.idle": "2022-10-04T05:54:52.433848Z",
     "shell.execute_reply": "2022-10-04T05:54:52.432572Z"
    },
    "papermill": {
     "duration": 0.022636,
     "end_time": "2022-10-04T05:54:52.437174",
     "exception": false,
     "start_time": "2022-10-04T05:54:52.414538",
     "status": "completed"
    },
    "tags": []
   },
   "outputs": [],
   "source": [
    "import pandas as pd\n",
    "import matplotlib.pyplot as plt\n",
    "import requests\n",
    "from datetime import datetime\n",
    "# pretty printing of pandas dataframe\n",
    "pd.set_option('expand_frame_repr', False)  \n",
    "\n"
   ]
  },
  {
   "cell_type": "code",
   "execution_count": 2,
   "id": "f746c9a2",
   "metadata": {
    "execution": {
     "iopub.execute_input": "2022-10-04T05:54:52.444647Z",
     "iopub.status.busy": "2022-10-04T05:54:52.444227Z",
     "iopub.status.idle": "2022-10-04T05:54:52.450534Z",
     "shell.execute_reply": "2022-10-04T05:54:52.449602Z"
    },
    "papermill": {
     "duration": 0.012291,
     "end_time": "2022-10-04T05:54:52.452633",
     "exception": false,
     "start_time": "2022-10-04T05:54:52.440342",
     "status": "completed"
    },
    "tags": []
   },
   "outputs": [],
   "source": [
    "# get current price data\n",
    "def get_current_data(from_sym='BTC', to_sym='USD', exchange=''):\n",
    "    url = 'https://min-api.cryptocompare.com/data/price'    \n",
    "    \n",
    "    parameters = {'fsym': from_sym,\n",
    "                  'tsyms': to_sym }\n",
    "    \n",
    "    if exchange:\n",
    "        print('exchange: ', exchange)\n",
    "        parameters['e'] = exchange\n",
    "        \n",
    "    # response comes as json\n",
    "    response = requests.get(url, params=parameters)   \n",
    "    data = response.json()\n",
    "    \n",
    "    return data "
   ]
  },
  {
   "cell_type": "code",
   "execution_count": 3,
   "id": "1129ab11",
   "metadata": {
    "execution": {
     "iopub.execute_input": "2022-10-04T05:54:52.460147Z",
     "iopub.status.busy": "2022-10-04T05:54:52.459739Z",
     "iopub.status.idle": "2022-10-04T05:54:52.473723Z",
     "shell.execute_reply": "2022-10-04T05:54:52.472720Z"
    },
    "papermill": {
     "duration": 0.020237,
     "end_time": "2022-10-04T05:54:52.475834",
     "exception": false,
     "start_time": "2022-10-04T05:54:52.455597",
     "status": "completed"
    },
    "tags": []
   },
   "outputs": [],
   "source": [
    "def get_hist_data(from_sym='BTC', to_sym='USD', timeframe = 'day', limit=2000, aggregation=1, exchange=''):\n",
    "    \n",
    "    url = 'https://min-api.cryptocompare.com/data/v2/histo'\n",
    "    url += timeframe\n",
    "    \n",
    "    parameters = {'fsym': from_sym,\n",
    "                  'tsym': to_sym,\n",
    "                  'limit': limit,\n",
    "                  'aggregate': aggregation}\n",
    "    if exchange:\n",
    "        print('exchange: ', exchange)\n",
    "        parameters['e'] = exchange    \n",
    "    \n",
    "    print('baseurl: ', url) \n",
    "    print('timeframe: ', timeframe)\n",
    "    print('parameters: ', parameters)\n",
    "    \n",
    "    # response comes as json\n",
    "    response = requests.get(url, params=parameters)   \n",
    "    \n",
    "    data = response.json()['Data']['Data'] \n",
    "    \n",
    "    return data "
   ]
  },
  {
   "cell_type": "code",
   "execution_count": 4,
   "id": "46ea752a",
   "metadata": {
    "execution": {
     "iopub.execute_input": "2022-10-04T05:54:52.483212Z",
     "iopub.status.busy": "2022-10-04T05:54:52.482824Z",
     "iopub.status.idle": "2022-10-04T05:54:52.489258Z",
     "shell.execute_reply": "2022-10-04T05:54:52.487989Z"
    },
    "papermill": {
     "duration": 0.012782,
     "end_time": "2022-10-04T05:54:52.491619",
     "exception": false,
     "start_time": "2022-10-04T05:54:52.478837",
     "status": "completed"
    },
    "tags": []
   },
   "outputs": [],
   "source": [
    "def data_to_dataframe(data):\n",
    "    #data from json is in array of dictionaries\n",
    "    df = pd.DataFrame.from_dict(data)\n",
    "    \n",
    "    # time is stored as an epoch, we need normal dates\n",
    "    df['time'] = pd.to_datetime(df['time'], unit='s')\n",
    "    df.set_index('time', inplace=True)\n",
    "    print(df.tail())\n",
    "    \n",
    "    return df"
   ]
  },
  {
   "cell_type": "code",
   "execution_count": 5,
   "id": "6bda1821",
   "metadata": {
    "execution": {
     "iopub.execute_input": "2022-10-04T05:54:52.500013Z",
     "iopub.status.busy": "2022-10-04T05:54:52.499646Z",
     "iopub.status.idle": "2022-10-04T05:54:52.506560Z",
     "shell.execute_reply": "2022-10-04T05:54:52.505584Z"
    },
    "papermill": {
     "duration": 0.013283,
     "end_time": "2022-10-04T05:54:52.508837",
     "exception": false,
     "start_time": "2022-10-04T05:54:52.495554",
     "status": "completed"
    },
    "tags": []
   },
   "outputs": [],
   "source": [
    "def plot_data(df, cryptocurrency, target_currency):\n",
    "    # got his warning because combining matplotlib \n",
    "    # and time in pandas converted from epoch to normal date\n",
    "    # To register the converters:\n",
    "    # \t>>> from pandas.plotting import register_matplotlib_converters\n",
    "    # \t>>> register_matplotlib_converters()\n",
    "    #  warnings.warn(msg, FutureWarning)\n",
    "    \n",
    "    from pandas.plotting import register_matplotlib_converters\n",
    "    register_matplotlib_converters()\n",
    "    \n",
    "    plt.figure(figsize=(15,5))\n",
    "    plt.title('{} / {} price data'.format(cryptocurrency, target_currency))\n",
    "    plt.plot(df.index, df.close)\n",
    "    plt.legend()\n",
    "    plt.show()\n",
    "    \n",
    "    return None"
   ]
  },
  {
   "cell_type": "code",
   "execution_count": 6,
   "id": "8324fefb",
   "metadata": {
    "execution": {
     "iopub.execute_input": "2022-10-04T05:54:52.517565Z",
     "iopub.status.busy": "2022-10-04T05:54:52.516685Z",
     "iopub.status.idle": "2022-10-04T05:54:53.560626Z",
     "shell.execute_reply": "2022-10-04T05:54:53.559516Z"
    },
    "papermill": {
     "duration": 1.05079,
     "end_time": "2022-10-04T05:54:53.563108",
     "exception": false,
     "start_time": "2022-10-04T05:54:52.512318",
     "status": "completed"
    },
    "tags": []
   },
   "outputs": [
    {
     "name": "stdout",
     "output_type": "stream",
     "text": [
      "baseurl:  https://min-api.cryptocompare.com/data/v2/histoday\n",
      "timeframe:  day\n",
      "parameters:  {'fsym': 'BTC', 'tsym': 'USD', 'limit': 1000, 'aggregate': 1}\n",
      "                high       low      open  volumefrom      volumeto     close conversionType conversionSymbol\n",
      "time                                                                                                        \n",
      "2022-09-30  20180.46  19201.02  19593.46    73013.93  1.428754e+09  19425.63         direct                 \n",
      "2022-10-01  19482.38  19188.77  19425.63    14808.24  2.860916e+08  19313.96         direct                 \n",
      "2022-10-02  19394.33  18929.91  19313.96    25352.29  4.857993e+08  19058.15         direct                 \n",
      "2022-10-03  19697.23  18988.80  19058.15    57248.95  1.106456e+09  19632.35         direct                 \n",
      "2022-10-04  19723.87  19499.64  19632.35     7341.08  1.438743e+08  19619.73         direct                 \n"
     ]
    },
    {
     "data": {
      "image/png": "[encoded data removed]",
      "text/plain": [
       "<Figure size 1080x360 with 1 Axes>"
      ]
     },
     "metadata": {
      "needs_background": "light"
     },
     "output_type": "display_data"
    }
   ],
   "source": [
    "cryptocurrency = 'BTC'\n",
    "target_currency = 'USD'\n",
    "\n",
    "data = get_hist_data(cryptocurrency, target_currency, 'day', 1000)\n",
    "df = data_to_dataframe(data)\n",
    "\n",
    "plot_data(df, cryptocurrency, target_currency)"
   ]
  },
  {
   "cell_type": "code",
   "execution_count": 7,
   "id": "cf2dc6b1",
   "metadata": {
    "execution": {
     "iopub.execute_input": "2022-10-04T05:54:53.572968Z",
     "iopub.status.busy": "2022-10-04T05:54:53.572304Z",
     "iopub.status.idle": "2022-10-04T05:54:54.129700Z",
     "shell.execute_reply": "2022-10-04T05:54:54.128065Z"
    },
    "papermill": {
     "duration": 0.565243,
     "end_time": "2022-10-04T05:54:54.132323",
     "exception": false,
     "start_time": "2022-10-04T05:54:53.567080",
     "status": "completed"
    },
    "tags": []
   },
   "outputs": [
    {
     "name": "stdout",
     "output_type": "stream",
     "text": [
      "baseurl:  https://min-api.cryptocompare.com/data/v2/histominute\n",
      "timeframe:  minute\n",
      "parameters:  {'fsym': 'BTC', 'tsym': 'USD', 'limit': 5, 'aggregate': 1}\n",
      "                         high       low      open  volumefrom   volumeto     close conversionType conversionSymbol\n",
      "time                                                                                                              \n",
      "2022-10-04 05:50:00  19628.84  19624.70  19624.70       7.131  139949.85  19625.96         direct                 \n",
      "2022-10-04 05:51:00  19625.96  19621.85  19625.96       7.248  142240.63  19625.13         direct                 \n",
      "2022-10-04 05:52:00  19626.97  19622.28  19625.13       4.933   96818.73  19624.15         direct                 \n",
      "2022-10-04 05:53:00  19625.17  19616.40  19624.15      41.800  820015.71  19622.72         direct                 \n",
      "2022-10-04 05:54:00  19622.72  19619.58  19622.72       0.000       0.00  19619.58         direct                 \n"
     ]
    },
    {
     "data": {
      "text/html": [
       "<div>\n",
       "<style scoped>\n",
       "    .dataframe tbody tr th:only-of-type {\n",
       "        vertical-align: middle;\n",
       "    }\n",
       "\n",
       "    .dataframe tbody tr th {\n",
       "        vertical-align: top;\n",
       "    }\n",
       "\n",
       "    .dataframe thead th {\n",
       "        text-align: right;\n",
       "    }\n",
       "</style>\n",
       "<table border=\"1\" class=\"dataframe\">\n",
       "  <thead>\n",
       "    <tr style=\"text-align: right;\">\n",
       "      <th></th>\n",
       "      <th>high</th>\n",
       "      <th>low</th>\n",
       "      <th>open</th>\n",
       "      <th>volumefrom</th>\n",
       "      <th>volumeto</th>\n",
       "      <th>close</th>\n",
       "      <th>conversionType</th>\n",
       "      <th>conversionSymbol</th>\n",
       "    </tr>\n",
       "    <tr>\n",
       "      <th>time</th>\n",
       "      <th></th>\n",
       "      <th></th>\n",
       "      <th></th>\n",
       "      <th></th>\n",
       "      <th></th>\n",
       "      <th></th>\n",
       "      <th></th>\n",
       "      <th></th>\n",
       "    </tr>\n",
       "  </thead>\n",
       "  <tbody>\n",
       "    <tr>\n",
       "      <th>2022-10-04 05:49:00</th>\n",
       "      <td>19624.70</td>\n",
       "      <td>19619.34</td>\n",
       "      <td>19620.58</td>\n",
       "      <td>13.510</td>\n",
       "      <td>265098.83</td>\n",
       "      <td>19624.70</td>\n",
       "      <td>direct</td>\n",
       "      <td></td>\n",
       "    </tr>\n",
       "    <tr>\n",
       "      <th>2022-10-04 05:50:00</th>\n",
       "      <td>19628.84</td>\n",
       "      <td>19624.70</td>\n",
       "      <td>19624.70</td>\n",
       "      <td>7.131</td>\n",
       "      <td>139949.85</td>\n",
       "      <td>19625.96</td>\n",
       "      <td>direct</td>\n",
       "      <td></td>\n",
       "    </tr>\n",
       "    <tr>\n",
       "      <th>2022-10-04 05:51:00</th>\n",
       "      <td>19625.96</td>\n",
       "      <td>19621.85</td>\n",
       "      <td>19625.96</td>\n",
       "      <td>7.248</td>\n",
       "      <td>142240.63</td>\n",
       "      <td>19625.13</td>\n",
       "      <td>direct</td>\n",
       "      <td></td>\n",
       "    </tr>\n",
       "    <tr>\n",
       "      <th>2022-10-04 05:52:00</th>\n",
       "      <td>19626.97</td>\n",
       "      <td>19622.28</td>\n",
       "      <td>19625.13</td>\n",
       "      <td>4.933</td>\n",
       "      <td>96818.73</td>\n",
       "      <td>19624.15</td>\n",
       "      <td>direct</td>\n",
       "      <td></td>\n",
       "    </tr>\n",
       "    <tr>\n",
       "      <th>2022-10-04 05:53:00</th>\n",
       "      <td>19625.17</td>\n",
       "      <td>19616.40</td>\n",
       "      <td>19624.15</td>\n",
       "      <td>41.800</td>\n",
       "      <td>820015.71</td>\n",
       "      <td>19622.72</td>\n",
       "      <td>direct</td>\n",
       "      <td></td>\n",
       "    </tr>\n",
       "    <tr>\n",
       "      <th>2022-10-04 05:54:00</th>\n",
       "      <td>19622.72</td>\n",
       "      <td>19619.58</td>\n",
       "      <td>19622.72</td>\n",
       "      <td>0.000</td>\n",
       "      <td>0.00</td>\n",
       "      <td>19619.58</td>\n",
       "      <td>direct</td>\n",
       "      <td></td>\n",
       "    </tr>\n",
       "  </tbody>\n",
       "</table>\n",
       "</div>"
      ],
      "text/plain": [
       "                         high       low      open  volumefrom   volumeto     close conversionType conversionSymbol\n",
       "time                                                                                                              \n",
       "2022-10-04 05:49:00  19624.70  19619.34  19620.58      13.510  265098.83  19624.70         direct                 \n",
       "2022-10-04 05:50:00  19628.84  19624.70  19624.70       7.131  139949.85  19625.96         direct                 \n",
       "2022-10-04 05:51:00  19625.96  19621.85  19625.96       7.248  142240.63  19625.13         direct                 \n",
       "2022-10-04 05:52:00  19626.97  19622.28  19625.13       4.933   96818.73  19624.15         direct                 \n",
       "2022-10-04 05:53:00  19625.17  19616.40  19624.15      41.800  820015.71  19622.72         direct                 \n",
       "2022-10-04 05:54:00  19622.72  19619.58  19622.72       0.000       0.00  19619.58         direct                 "
      ]
     },
     "execution_count": 7,
     "metadata": {},
     "output_type": "execute_result"
    }
   ],
   "source": [
    "\n",
    "data_to_dataframe(get_hist_data(cryptocurrency, target_currency, 'minute', 5))"
   ]
  }
 ],
 "metadata": {
  "kernelspec": {
   "display_name": "Python 3",
   "language": "python",
   "name": "python3"
  },
  "language_info": {
   "codemirror_mode": {
    "name": "ipython",
    "version": 3
   },
   "file_extension": ".py",
   "mimetype": "text/x-python",
   "name": "python",
   "nbconvert_exporter": "python",
   "pygments_lexer": "ipython3",
   "version": "3.7.12"
  },
  "papermill": {
   "default_parameters": {},
   "duration": 11.725273,
   "end_time": "2022-10-04T05:54:55.060973",
   "environment_variables": {},
   "exception": null,
   "input_path": "__notebook__.ipynb",
   "output_path": "__notebook__.ipynb",
   "parameters": {},
   "start_time": "2022-10-04T05:54:43.335700",
   "version": "2.3.4"
  }
 },
 "nbformat": 4,
 "nbformat_minor": 5
}
